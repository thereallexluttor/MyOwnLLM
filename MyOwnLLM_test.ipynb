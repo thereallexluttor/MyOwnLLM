{
 "cells": [
  {
   "cell_type": "markdown",
   "metadata": {},
   "source": [
    "# Custom Language Model Code Generation Testing\n",
    "\n",
    "This notebook demonstrates the capabilities of a custom-trained language model ('MyOwnLLM') for generating Python code snippets. The model is based on the transformers library and is tested on various coding tasks to evaluate its code generation abilities.\n",
    "\n",
    "## Setup and Dependencies\n",
    "We'll use the transformers library to load and run our model, along with some utility functions for processing the generated code."
   ]
  },
  {
   "cell_type": "code",
   "execution_count": 7,
   "metadata": {},
   "outputs": [],
   "source": [
    "# Import required libraries and initialize the model pipeline\n",
    "from transformers import pipeline, set_seed\n",
    "\n",
    "# Load our custom trained model\n",
    "model_ckpt = 'MyOwnLLM'\n",
    "generation = pipeline('text-generation', model=model_ckpt)"
   ]
  },
  {
   "cell_type": "markdown",
   "metadata": {},
   "source": [
    "## Utility Functions\n",
    "\n",
    "Below we define helper functions to:\n",
    "1. Extract the first code block from generated text\n",
    "2. Generate multiple code completions with controlled randomness"
   ]
  },
  {
   "cell_type": "code",
   "execution_count": 8,
   "metadata": {},
   "outputs": [],
   "source": [
    "import re\n",
    "from transformers import set_seed \n",
    "\n",
    "def first_block(string):\n",
    "    \"\"\"Extract the first code block before any new class/function definitions or special tokens.\"\"\"\n",
    "    return re.split('\\nclass|\\ndef|\\n#|\\n@|\\nprint|\\nif', string)[0].rstrip()\n",
    "\n",
    "def complete_code(pipe, prompt, max_length=64, num_completions=4, seed=1):\n",
    "    \"\"\"Generate multiple code completions for a given prompt.\n",
    "    \n",
    "    Args:\n",
    "        pipe: The transformer pipeline\n",
    "        prompt: Input code prompt\n",
    "        max_length: Maximum length of generated text\n",
    "        num_completions: Number of different completions to generate\n",
    "        seed: Random seed for reproducibility\n",
    "    \"\"\"\n",
    "    set_seed(seed)\n",
    "    # Set generation parameters for controlled randomness\n",
    "    gen_kwargs = {\n",
    "        \"temperature\": 0.4,  # Lower temperature for more focused sampling\n",
    "        \"top_p\": 0.95,      # Nucleus sampling parameter\n",
    "        \"top_k\": 0,         # Disabled top-k sampling\n",
    "        \"num_beams\": 1,     # Simple sampling without beam search\n",
    "        \"do_sample\": True,\n",
    "    }\n",
    "    code_gens = generation(prompt, num_return_sequences=num_completions, \n",
    "                            max_length=max_length, **gen_kwargs)\n",
    "    code_strings = []\n",
    "    for code_gen in code_gens:\n",
    "        generated_code = first_block(code_gen['generated_text'][len(prompt):])\n",
    "        code_strings.append(generated_code)\n",
    "    print(('\\n'+'='*80 + '\\n').join(code_strings))"
   ]
  },
  {
   "cell_type": "markdown",
   "metadata": {},
   "source": [
    "## Test Case 1: Simple Mathematical Function\n",
    "\n",
    "Testing the model's ability to complete a basic geometric function for calculating rectangle area."
   ]
  },
  {
   "cell_type": "code",
   "execution_count": 9,
   "metadata": {},
   "outputs": [
    {
     "name": "stderr",
     "output_type": "stream",
     "text": [
      "Setting `pad_token_id` to `eos_token_id`:0 for open-end generation.\n"
     ]
    },
    {
     "name": "stdout",
     "output_type": "stream",
     "text": [
      "\n",
      "    return (a - b) * (a - b)\n",
      "================================================================================\n",
      "\n",
      "    return a * b / (a + b)\n",
      "================================================================================\n",
      "\n",
      "    return (a + b / 2.0) * area_of_rectangle(a, b)\n",
      "================================================================================\n",
      "\n",
      "    return (a - b) * area_of_rectangle(a, b)\n"
     ]
    }
   ],
   "source": [
    "# Test prompt for rectangle area calculation\n",
    "prompt = '''def area_of_rectangle(a: float, b: float):\n",
    "    \"\"\"Return the area of the rectangle.\"\"\"'''\n",
    "complete_code(generation, prompt)\n",
    "\n",
    "# Note: The model generates multiple solutions, but only the first one (a * b)\n",
    "# would be mathematically correct for rectangle area"
   ]
  },
  {
   "cell_type": "markdown",
   "metadata": {},
   "source": [
    "## Test Case 2: URL Extraction from HTML\n",
    "\n",
    "Testing the model's ability to generate more complex code involving string processing and regular expressions."
   ]
  },
  {
   "cell_type": "code",
   "execution_count": 10,
   "metadata": {},
   "outputs": [
    {
     "name": "stderr",
     "output_type": "stream",
     "text": [
      "Setting `pad_token_id` to `eos_token_id`:0 for open-end generation.\n"
     ]
    },
    {
     "name": "stdout",
     "output_type": "stream",
     "text": [
      "\n",
      "    urls = []\n",
      "    for match in re.finditer(r'(<[^>]*\\bhref=[\"\\']?[^>]*\\bstyle=[\"\\']?([^>]*)', html):\n",
      "        urls.append(match.\n",
      "================================================================================\n",
      "\n",
      "    if not html:\n",
      "        return ''\n",
      "    if len(html) == 1:\n",
      "        return get_urls_from_html(html[0])\n",
      "    else:\n",
      "        return get_urls_from_\n",
      "================================================================================\n",
      "\n",
      "    if not html:\n",
      "        return ''\n",
      "    if not html.startswith('<script'):\n",
      "        return ''\n",
      "    return html.split('<script ')[1]\n",
      "================================================================================\n",
      "\n",
      "    urls = []\n",
      "    for match in re.finditer('<a href=\"(.*?)\">', html):\n",
      "        urls.append(match.group(1))\n",
      "    return urls\n"
     ]
    }
   ],
   "source": [
    "# Test prompt for HTML URL extraction\n",
    "prompt = '''def get_urls_from_html(html):\n",
    "    \"\"\"Get all embedded URLs in a HTML string.\"\"\"'''\n",
    "complete_code(generation, prompt)\n",
    "\n",
    "# Note: The last generated solution using re.finditer is the most practical approach"
   ]
  },
  {
   "cell_type": "markdown",
   "metadata": {},
   "source": [
    "## Test Case 3: Function Implementation Comparison\n",
    "\n",
    "Testing the model's ability to translate between native Python and NumPy implementations."
   ]
  },
  {
   "cell_type": "code",
   "execution_count": 11,
   "metadata": {},
   "outputs": [
    {
     "name": "stderr",
     "output_type": "stream",
     "text": [
      "Setting `pad_token_id` to `eos_token_id`:0 for open-end generation.\n"
     ]
    },
    {
     "name": "stdout",
     "output_type": "stream",
     "text": [
      "\n",
      "    return sum(a)/len(a)\n",
      "================================================================================\n",
      "\n",
      "    return np.mean(a)\n",
      "================================================================================\n",
      "\n",
      "    return np.mean(a)\n",
      "================================================================================\n",
      "\n",
      "    return sum(a)/len(a)\n"
     ]
    }
   ],
   "source": [
    "# Test prompt comparing native Python vs NumPy implementation\n",
    "prompt = '''# a function in native python:\n",
    "def mean(a):\n",
    "    return sum(a)/len(a)\n",
    "\n",
    "# the same function using numpy:\n",
    "import numpy as np\n",
    "def mean(a):'''\n",
    "complete_code(generation, prompt, max_length=64)\n",
    "\n",
    "# Note: The model correctly identifies np.mean as the NumPy equivalent"
   ]
  },
  {
   "cell_type": "markdown",
   "metadata": {},
   "source": [
    "## Test Case 4: Machine Learning Code Generation\n",
    "\n",
    "Testing the model's ability to generate machine learning setup code using scikit-learn."
   ]
  },
  {
   "cell_type": "code",
   "execution_count": 13,
   "metadata": {},
   "outputs": [
    {
     "name": "stderr",
     "output_type": "stream",
     "text": [
      "Setting `pad_token_id` to `eos_token_id`:0 for open-end generation.\n"
     ]
    },
    {
     "name": "stdout",
     "output_type": "stream",
     "text": [
      "\n",
      "clf = RandomForestClassifier(n_estimators=20, random_state=1)\n",
      "clf.fit(X, y)\n",
      "================================================================================\n",
      "\n",
      "clf = RandomForestClassifier(n_estimators=20)\n",
      "clf.fit(X, y)\n",
      "================================================================================\n",
      "\n",
      "regr_1 = DecisionTreeRegressor(max_depth=4)\n",
      "\n",
      "regr_2 = AdaBoostRegressor(DecisionTreeRegressor(max_depth=4),\n",
      "                          n_estimators=300, random_state=0)\n",
      "\n",
      "regr_1.fit(X, y)\n",
      "regr_2.fit(X, y)\n",
      "================================================================================\n",
      "\n",
      "clf = RandomForestClassifier(n_estimators=20, random_state=1)\n",
      "clf.fit(X, y)\n"
     ]
    }
   ],
   "source": [
    "# Test prompt for random forest classifier setup\n",
    "prompt = '''X = np.random.randn(100, 100)\n",
    "y = np.random.randint(0, 1, 100)\n",
    "\n",
    "# fit random forest classifier with 20 estimators'''\n",
    "complete_code(generation, prompt, max_length=156)\n",
    "\n",
    "# Note: The model consistently generates correct RandomForestClassifier initialization and fitting"
   ]
  },
  {
   "cell_type": "code",
   "execution_count": null,
   "metadata": {},
   "outputs": [],
   "source": []
  }
 ],
 "metadata": {
  "kernelspec": {
   "display_name": "llm_lab",
   "language": "python",
   "name": "python3"
  },
  "language_info": {
   "codemirror_mode": {
    "name": "ipython",
    "version": 3
   },
   "file_extension": ".py",
   "mimetype": "text/x-python",
   "name": "python",
   "nbconvert_exporter": "python",
   "pygments_lexer": "ipython3",
   "version": "3.9.20"
  }
 },
 "nbformat": 4,
 "nbformat_minor": 2
}
